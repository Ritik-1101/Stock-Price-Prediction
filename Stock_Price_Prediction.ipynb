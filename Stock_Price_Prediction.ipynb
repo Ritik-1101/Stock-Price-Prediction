{
 "cells": [
  {
   "cell_type": "code",
   "execution_count": 17,
   "metadata": {},
   "outputs": [],
   "source": [
    "import pandas as pd\n",
    "import numpy as np\n",
    "import matplotlib.pyplot as plt\n",
    "import plotly.graph_objs as go\n",
    "from plotly.offline import plot\n",
    "from sklearn.model_selection import TimeSeriesSplit\n",
    "from sklearn.preprocessing import StandardScaler\n",
    "from sklearn.metrics import mean_squared_error, r2_score, mean_absolute_error\n",
    "from sklearn.ensemble import RandomForestRegressor, GradientBoostingRegressor\n",
    "from sklearn.linear_model import LinearRegression"
   ]
  },
  {
   "cell_type": "code",
   "execution_count": 18,
   "metadata": {},
   "outputs": [
    {
     "name": "stderr",
     "output_type": "stream",
     "text": [
      "<>:5: SyntaxWarning:\n",
      "\n",
      "invalid escape sequence '\\$'\n",
      "\n",
      "<>:5: SyntaxWarning:\n",
      "\n",
      "invalid escape sequence '\\$'\n",
      "\n",
      "C:\\Users\\drake\\AppData\\Local\\Temp\\ipykernel_20508\\1748232975.py:5: SyntaxWarning:\n",
      "\n",
      "invalid escape sequence '\\$'\n",
      "\n"
     ]
    }
   ],
   "source": [
    "# Load and preprocess data\n",
    "def load_and_preprocess_data(filepath: str) -> pd.DataFrame:\n",
    "    data = pd.read_csv(filepath)\n",
    "    data['Date'] = pd.to_datetime(data['Date'])\n",
    "    data['Close/Last'] = data['Close/Last'].replace('[\\$,]', '', regex=True).astype(float)\n",
    "    data = data.dropna().reset_index(drop=True)\n",
    "    return data"
   ]
  },
  {
   "cell_type": "code",
   "execution_count": 19,
   "metadata": {},
   "outputs": [],
   "source": [
    "# Feature engineering\n",
    "def add_technical_indicators(data: pd.DataFrame) -> pd.DataFrame:\n",
    "    data['SMA_10'] = data['Close/Last'].rolling(window=10).mean()\n",
    "    data['SMA_30'] = data['Close/Last'].rolling(window=30).mean()\n",
    "    delta = data['Close/Last'].diff()\n",
    "    gain = delta.clip(lower=0)\n",
    "    loss = -delta.clip(upper=0)\n",
    "    rs = gain.rolling(14).mean() / loss.rolling(14).mean()\n",
    "    data['RSI'] = 100 - (100 / (1 + rs))\n",
    "    return data.dropna()"
   ]
  },
  {
   "cell_type": "code",
   "execution_count": 20,
   "metadata": {},
   "outputs": [],
   "source": [
    "# Visualizations\n",
    "def plot_predictions(Y_test, y_pred, title, dates):\n",
    "    fig = go.Figure()\n",
    "    fig.add_trace(go.Scatter(x=dates, y=Y_test, mode='lines', name='Actual', line=dict(color='blue')))\n",
    "    fig.add_trace(go.Scatter(x=dates, y=y_pred, mode='lines', name='Predicted', line=dict(color='red')))\n",
    "    fig.update_layout(title=title, xaxis_title='Time', yaxis_title='Stock Price')\n",
    "    plot(fig)"
   ]
  },
  {
   "cell_type": "code",
   "execution_count": 21,
   "metadata": {},
   "outputs": [],
   "source": [
    "# Train and evaluate models\n",
    "def train_and_evaluate_models(data: pd.DataFrame) -> None:\n",
    "    features = ['SMA_10', 'SMA_30', 'RSI']\n",
    "    X = data[features]\n",
    "    Y = data['Close/Last']\n",
    "    dates = data['Date']\n",
    "    tscv = TimeSeriesSplit(n_splits=5)\n",
    "\n",
    "    models = [LinearRegression(), RandomForestRegressor(), GradientBoostingRegressor()]\n",
    "    model_names = ['Linear Regression', 'Random Forest', 'Gradient Boosting']\n",
    "\n",
    "    for model, name in zip(models, model_names):\n",
    "        scores = []\n",
    "        for train_idx, test_idx in tscv.split(X):\n",
    "            X_train, X_test = X.iloc[train_idx], X.iloc[test_idx]\n",
    "            Y_train, Y_test = Y.iloc[train_idx], Y.iloc[test_idx]\n",
    "            dates_test = dates.iloc[test_idx]\n",
    "\n",
    "            scaler = StandardScaler().fit(X_train)\n",
    "            X_train_scaled = scaler.transform(X_train)\n",
    "            X_test_scaled = scaler.transform(X_test)\n",
    "\n",
    "            model.fit(X_train_scaled, Y_train)\n",
    "            y_pred = model.predict(X_test_scaled)\n",
    "\n",
    "            scores.append({\n",
    "                'R^2 Score': r2_score(Y_test, y_pred),\n",
    "                'MSE': mean_squared_error(Y_test, y_pred),\n",
    "                'MAE': mean_absolute_error(Y_test, y_pred)\n",
    "            })\n",
    "            plot_predictions(Y_test, y_pred, f'{name} Predictions', dates_test)"
   ]
  },
  {
   "cell_type": "code",
   "execution_count": 22,
   "metadata": {},
   "outputs": [],
   "source": [
    "# Extend predictions to future dates\n",
    "def extend_predictions(data: pd.DataFrame, model, scaler, future_steps: int):\n",
    "    features = ['SMA_10', 'SMA_30', 'RSI']\n",
    "    last_data = data.iloc[-future_steps:][features]\n",
    "    last_data_scaled = scaler.transform(last_data)\n",
    "\n",
    "    future_dates = pd.date_range(start=data['Date'].iloc[-1], periods=future_steps + 1, inclusive='right')\n",
    "    future_preds = model.predict(last_data_scaled)\n",
    "\n",
    "    return future_dates, future_preds"
   ]
  },
  {
   "cell_type": "code",
   "execution_count": 23,
   "metadata": {},
   "outputs": [],
   "source": [
    "# Main function\n",
    "def main(filepath: str, future_steps: int) -> None:\n",
    "    data = load_and_preprocess_data(filepath)\n",
    "    data = add_technical_indicators(data)\n",
    "\n",
    "    features = ['SMA_10', 'SMA_30', 'RSI']\n",
    "    X = data[features]\n",
    "    Y = data['Close/Last']\n",
    "    dates = data['Date']\n",
    "\n",
    "    # Training models\n",
    "    model = GradientBoostingRegressor()\n",
    "    scaler = StandardScaler().fit(X)\n",
    "    X_scaled = scaler.transform(X)\n",
    "    model.fit(X_scaled, Y)\n",
    "\n",
    "    # Future predictions\n",
    "    future_dates, future_preds = extend_predictions(data, model, scaler, future_steps)\n",
    "\n",
    "    # Plotting future predictions\n",
    "    plot_predictions(Y, np.concatenate([model.predict(X_scaled), future_preds]), 'Future Predictions', np.concatenate([dates, future_dates]))"
   ]
  },
  {
   "cell_type": "code",
   "execution_count": 24,
   "metadata": {},
   "outputs": [],
   "source": [
    "if __name__ == \"__main__\":\n",
    "    main('teslanew.csv', future_steps=0)"
   ]
  }
 ],
 "metadata": {
  "kernelspec": {
   "display_name": "Python 3",
   "language": "python",
   "name": "python3"
  },
  "language_info": {
   "codemirror_mode": {
    "name": "ipython",
    "version": 3
   },
   "file_extension": ".py",
   "mimetype": "text/x-python",
   "name": "python",
   "nbconvert_exporter": "python",
   "pygments_lexer": "ipython3",
   "version": "3.12.1"
  }
 },
 "nbformat": 4,
 "nbformat_minor": 2
}
